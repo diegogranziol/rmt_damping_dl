{
 "cells": [
  {
   "cell_type": "code",
   "execution_count": 34,
   "metadata": {},
   "outputs": [
    {
     "name": "stdout",
     "output_type": "stream",
     "text": [
      "[0, 25, 50, 75, 100, 125, 150, 175, 200, 225, 250, 275, 300]\n"
     ]
    }
   ],
   "source": [
    "model = 'VGG16'\n",
    "dataset = 'CIFAR10'\n",
    "optimizer = 'SGDOPT'\n",
    "machine = 'jade1'\n",
    "matrix = 'hessian'\n",
    "start = 'python3 ../spectrum.py --curvature_matrix='+matrix+'  '\n",
    "if machine == 'rapid':\n",
    "    data_path = '/nfs/home/dgranziol/curvature/data/'\n",
    "elif machine == 'jade1':\n",
    "    data_path = '/jmain01/home/JAD017/sjr01/dxg49-sjr01/curvature/data/' \n",
    "elif machine == 'jade2':\n",
    "    data_path = '/jmain01/home/JAD017/sjr02/dxg49-sjr02/curvature/data/' \n",
    "relarray = []\n",
    "iters = 100\n",
    "num_samples = 128\n",
    "if dataset == 'CIFAR100':\n",
    "    df = 'c100'\n",
    "else:\n",
    "    df = 'c10'\n",
    "#ckptlink = 'ckpts/'+df+'/'+model+'/'+optimizer+'/'\n",
    "append = \n",
    "if model == 'VGG16':\n",
    "    for i in range(0,13):\n",
    "        relarray.append(i*25)\n",
    "elif model == 'PreResNet110':\n",
    "    for i in range(0,10):\n",
    "        relarray.append(i*25)\n",
    "print(relarray)\n",
    "substart = 0\n",
    "subend = 10\n",
    "\n",
    "\n",
    "\n",
    "        "
   ]
  },
  {
   "cell_type": "code",
   "execution_count": 35,
   "metadata": {},
   "outputs": [
    {
     "data": {
      "text/plain": [
       "'/nfs/home/dgranziol/curvature/data/'"
      ]
     },
     "execution_count": 35,
     "metadata": {},
     "output_type": "execute_result"
    }
   ],
   "source": [
    "data_path"
   ]
  },
  {
   "cell_type": "code",
   "execution_count": 36,
   "metadata": {
    "collapsed": true,
    "scrolled": true
   },
   "outputs": [],
   "source": [
    "#full SPECTRUM\n",
    "#eigenvectors not saved\n",
    "f = open(str(machine)+\"_scripts/full-\"+optimizer+model+dataset+\"iters-\"+str(iters)+\".sh\",\"w+\")\n",
    "zeros = '00000'\n",
    "# if machine=='jade':\n",
    "#     f.write('')\n",
    "# if optimizer == 'KFAC':\n",
    "#     f.write('python3 experiments/swag/run_KFAC.py --dataset=CIFAR100 --lr_init=0.03 --data_path='+data_path+' --model='+model+' --epochs='+str(max(relarray))+' --eval_freq=1 --save_freq=1 --seed=1 --dir='+ckptlink)\n",
    "#     f.write('\\n')\n",
    "for i in range(0,len(relarray)):\n",
    "    val = zeros[:5-len(str(relarray[i]))]+str(relarray[i])\n",
    "    k = start+' --dataset='+dataset+' --iters='+str(iters)+' --data_path='+data_path+' --model='+model+' --ckpt='+ckptlink+'checkpoint-'+val+'.pt --basis_path='+ckptlink+matrix+'-'+str(iters)+'-'+val+' --spectrum_path='+ckptlink+matrix+'-'+str(iters)+'-'+val\n",
    "    f.write(k)\n",
    "    f.write('\\n')"
   ]
  },
  {
   "cell_type": "code",
   "execution_count": 23,
   "metadata": {
    "collapsed": true
   },
   "outputs": [],
   "source": [
    "#batch SPECTRUM\n",
    "#eigenvectors not saved\n",
    "f = open(\"batch-\"+str(num_samples)+optimizer+model+dataset+\".sh\",\"w+\")\n",
    "zeros = '00000'\n",
    "for i in range(0,len(relarray)):\n",
    "    val = zeros[:5-len(str(relarray[i]))]+str(relarray[i])\n",
    "    for j in range(substart,subend):\n",
    "        k = start+' --dataset='+dataset+' --iters='+str(iters)+' --data_path='+data_path+' --model='+model+' --subsample_seed='+str(j)+' --num_samples='+str(num_samples)+' --ckpt='+ckptlink+'checkpoint-'+val+'.pt  --spectrum_path='+ckptlink+str(num_samples)+'batchspec/'+str(num_samples)+'-'+val+'-'+str(j)\n",
    "        f.write(k)\n",
    "        f.write('\\n')\n",
    "f.close()"
   ]
  },
  {
   "cell_type": "code",
   "execution_count": null,
   "metadata": {
    "collapsed": true
   },
   "outputs": [],
   "source": []
  }
 ],
 "metadata": {
  "kernelspec": {
   "display_name": "Python 2",
   "language": "python",
   "name": "python2"
  },
  "language_info": {
   "codemirror_mode": {
    "name": "ipython",
    "version": 2
   },
   "file_extension": ".py",
   "mimetype": "text/x-python",
   "name": "python",
   "nbconvert_exporter": "python",
   "pygments_lexer": "ipython2",
   "version": "2.7.3"
  }
 },
 "nbformat": 4,
 "nbformat_minor": 2
}
