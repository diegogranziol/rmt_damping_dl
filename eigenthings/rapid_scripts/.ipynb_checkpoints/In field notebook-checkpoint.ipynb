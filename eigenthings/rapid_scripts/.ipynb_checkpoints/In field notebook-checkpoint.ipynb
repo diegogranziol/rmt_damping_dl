{
 "cells": [
  {
   "cell_type": "code",
   "execution_count": null,
   "metadata": {},
   "outputs": [],
   "source": [
    "cd ../"
   ]
  },
  {
   "cell_type": "code",
   "execution_count": 39,
   "metadata": {},
   "outputs": [],
   "source": [
    "import argparse\n",
    "import time\n",
    "import tabulate\n",
    "\n",
    "import numpy as np\n",
    "\n",
    "from gpytorch.utils.lanczos import lanczos_tridiag\n",
    "\n",
    "import torch\n",
    "\n",
    "from curvature import data, models, losses, utils\n",
    "from curvature.methods.swag import SWAG"
   ]
  },
  {
   "cell_type": "code",
   "execution_count": 40,
   "metadata": {},
   "outputs": [
    {
     "name": "stdout",
     "output_type": "stream",
     "text": [
      "Using model VGG16\n"
     ]
    }
   ],
   "source": [
    "model = 'VGG16'\n",
    "print('Using model %s' % model)\n",
    "model_cfg = getattr(models,model)"
   ]
  },
  {
   "cell_type": "code",
   "execution_count": 41,
   "metadata": {},
   "outputs": [],
   "source": [
    "dataset = 'CIFAR100'\n",
    "data_path = '/nfs/home/dgranziol/curvature/data'\n",
    "ckpt = '/nfs/home/dgranziol/curvature/ckpts/c100/VGG16/SGDOPT/checkpoint-00300.pt'\n",
    "iters = 10"
   ]
  },
  {
   "cell_type": "code",
   "execution_count": 42,
   "metadata": {},
   "outputs": [
    {
     "name": "stdout",
     "output_type": "stream",
     "text": [
      "Loading CIFAR100 from /nfs/home/dgranziol/curvature/data\n",
      "Files already downloaded and verified\n",
      "You are going to run models on the test set. Are you sure?\n",
      "Files already downloaded and verified\n",
      "Using train (50000) + test (10000)\n",
      "Loading CIFAR100 from /nfs/home/dgranziol/curvature/data\n",
      "Files already downloaded and verified\n",
      "Using 5000 samples for validation [deterministic split]\n",
      "Files already downloaded and verified\n",
      "Using train (45000) + test (5000)\n"
     ]
    }
   ],
   "source": [
    "batch_size = 64\n",
    "\n",
    "datasets, num_classes = data.datasets(\n",
    "    dataset,\n",
    "    data_path,\n",
    "    transform_train=model_cfg.transform_test,\n",
    "    transform_test=model_cfg.transform_test,\n",
    "    use_validation=False,\n",
    "    train_subset=None,\n",
    "    train_subset_seed=None,\n",
    ")\n",
    "loader = torch.utils.data.DataLoader(\n",
    "    datasets['train'],\n",
    "    batch_size=batch_size,\n",
    "    shuffle=False,\n",
    "    num_workers=4,\n",
    "    pin_memory=True\n",
    ")\n",
    "full_datasets, _ = data.datasets(\n",
    "    dataset,\n",
    "    data_path,\n",
    "    transform_train=model_cfg.transform_train,\n",
    "    transform_test=model_cfg.transform_test,\n",
    "    use_validation=not False,\n",
    ")\n",
    "full_loader = torch.utils.data.DataLoader(\n",
    "    full_datasets['train'],\n",
    "    batch_size=batch_size,\n",
    "    shuffle=False,\n",
    "    num_workers=4,\n",
    "    pin_memory=True\n",
    ")"
   ]
  },
  {
   "cell_type": "code",
   "execution_count": 43,
   "metadata": {},
   "outputs": [
    {
     "name": "stdout",
     "output_type": "stream",
     "text": [
      "Loading /nfs/home/dgranziol/curvature/ckpts/c100/VGG16/SGDOPT/checkpoint-00300.pt\n"
     ]
    },
    {
     "data": {
      "text/plain": [
       "<All keys matched successfully>"
      ]
     },
     "execution_count": 43,
     "metadata": {},
     "output_type": "execute_result"
    }
   ],
   "source": [
    "model = model_cfg.base(*model_cfg.args, num_classes=num_classes, **model_cfg.kwargs)\n",
    "print('Loading %s' % ckpt)\n",
    "checkpoint = torch.load(ckpt)\n",
    "model.load_state_dict(checkpoint['state_dict'])"
   ]
  },
  {
   "cell_type": "code",
   "execution_count": 44,
   "metadata": {},
   "outputs": [],
   "source": [
    "if torch.cuda.is_available():\n",
    "   device = torch.device('cuda')\n",
    "else:\n",
    "    device = torch.device('cpu')\n",
    "model.to(device)\n",
    "num_parametrs = sum([p.numel() for p in model.parameters()])\n",
    "criterion = losses.cross_entropy\n"
   ]
  },
  {
   "cell_type": "code",
   "execution_count": 48,
   "metadata": {},
   "outputs": [],
   "source": [
    "covgrad = utils.covgrad(loader, model, criterion, cuda='cuda' == 'cuda', bn_train_mode=False)"
   ]
  },
  {
   "cell_type": "code",
   "execution_count": 54,
   "metadata": {},
   "outputs": [],
   "source": [
    "np_covgrad = covgrad['covgrad_mat'].numpy()\n",
    "K = np.matrix(np_covgrad)\n",
    "covariance = np.matmul(K,K.transpose())\n",
    "C = np.linalg.svd((1/covgrad['num_batches'])*covariance, full_matrices=True)"
   ]
  },
  {
   "cell_type": "code",
   "execution_count": 55,
   "metadata": {},
   "outputs": [
    {
     "name": "stdout",
     "output_type": "stream",
     "text": [
      "0.10048976739473937\n",
      "78.58299810268619\n"
     ]
    }
   ],
   "source": [
    "print(max(C[1]))\n",
    "print(max(C[1])*covgrad['num_batches'])"
   ]
  },
  {
   "cell_type": "code",
   "execution_count": 57,
   "metadata": {},
   "outputs": [
    {
     "data": {
      "image/png": "[encoded data removed]",
      "text/plain": [
       "<Figure size 432x288 with 1 Axes>"
      ]
     },
     "metadata": {
      "needs_background": "light"
     },
     "output_type": "display_data"
    }
   ],
   "source": [
    "import matplotlib.pyplot as plt\n",
    "_ = plt.hist(C[1], bins='auto')  # arguments are passed to np.histogram\n",
    "plt.title(\"Histogram with 'auto' bins\")\n",
    "plt.show()"
   ]
  },
  {
   "cell_type": "code",
   "execution_count": null,
   "metadata": {},
   "outputs": [],
   "source": [
    "%reset -f "
   ]
  },
  {
   "cell_type": "code",
   "execution_count": null,
   "metadata": {},
   "outputs": [],
   "source": [
    "class CurvVecProduct(object):\n",
    "    def __init__(self, loader, model, criterion, curvature_matrix, full_loader=None):\n",
    "        self.loader = loader\n",
    "        self.full_loader = full_loader\n",
    "        self.model = model\n",
    "        self.criterion = criterion\n",
    "        self.iters = 0\n",
    "        self.timestamp = time.time()\n",
    "        self.curvature_matrix = curvature_matrix\n",
    "\n",
    "    def __call__(self, vector):\n",
    "        start_time = time.time()\n",
    "        if self.curvature_matrix == 'hessian':\n",
    "            output = utils.hess_vec(\n",
    "                vector,\n",
    "                self.loader,\n",
    "                self.model,\n",
    "                self.criterion,\n",
    "                cuda='cuda'\n",
    "               \n",
    "                )\n",
    "        elif self.curvature_matrix == 'covgrad':\n",
    "            output = utils.covgrad_vec(\n",
    "                vector,\n",
    "                self.loader,\n",
    "                self.model,\n",
    "                self.criterion,\n",
    "                cuda='cuda',\n",
    "            )\n",
    "        else:\n",
    "            raise ValueError(\"Unrecognised curvature_matrix argument \"+self.curvature_matrix)\n",
    "        time_diff = time.time() - start_time\n",
    "\n",
    "        self.iters += 1\n",
    "        print('Iter %d. Time: %.2f' % (self.iters, time_diff))\n",
    "        # return output.unsqueeze(1)¬\n",
    "        return output.cpu().unsqueeze(1)\n",
    "\n",
    "w = torch.cat([param.detach().cpu().view(-1) for param in model.parameters()])\n",
    "w_l2_norm = torch.norm(w).numpy()\n",
    "w_linf_norm = torch.norm(w, float('inf')).numpy()"
   ]
  },
  {
   "cell_type": "code",
   "execution_count": null,
   "metadata": {},
   "outputs": [],
   "source": [
    "# #Hessian\n",
    "# productor = CurvVecProduct(loader, model, criterion, 'hessian')\n",
    "# utils.bn_update(full_loader, model)\n",
    "# Q, T = lanczos_tridiag(productor, 2, dtype=torch.float32, device='cpu', matrix_shape=(num_parametrs, num_parametrs))\n",
    "\n",
    "# eigvals, eigvects = T.eig(eigenvectors=True)\n",
    "# gammas = eigvects[0, :] ** 2\n",
    "# V = eigvects.t() @ Q.t()"
   ]
  },
  {
   "cell_type": "code",
   "execution_count": null,
   "metadata": {},
   "outputs": [],
   "source": [
    "# eigvals"
   ]
  },
  {
   "cell_type": "code",
   "execution_count": null,
   "metadata": {},
   "outputs": [],
   "source": [
    "#covgrad\n",
    "productor = CurvVecProduct(loader, model, criterion, 'covgrad')\n",
    "utils.bn_update(full_loader, model)\n",
    "Q, T = lanczos_tridiag(productor, 10, dtype=torch.float32, device='cpu', matrix_shape=(num_parametrs, num_parametrs))\n",
    "\n",
    "eigvals, eigvects = T.eig(eigenvectors=True)\n",
    "gammas = eigvects[0, :] ** 2\n",
    "V = eigvects.t() @ Q.t()"
   ]
  },
  {
   "cell_type": "code",
   "execution_count": null,
   "metadata": {},
   "outputs": [],
   "source": [
    "eigvals"
   ]
  },
  {
   "cell_type": "code",
   "execution_count": null,
   "metadata": {},
   "outputs": [],
   "source": [
    "a = torch.rand(1)\n",
    "print(a)\n",
    "print(a.item())\n",
    "b = torch.rand(3,4)\n",
    "print(b)\n",
    "c = torch.rand(5,6)\n",
    "f = [b,c]\n",
    "print('fold')\n",
    "print(f)\n",
    "print('thingy')\n",
    "for j in f:\n",
    "    print(j*a)\n",
    "new_list = [j*a for j in f]\n",
    "print(new_list)\n"
   ]
  },
  {
   "cell_type": "code",
   "execution_count": null,
   "metadata": {},
   "outputs": [],
   "source": [
    "py_list = [[1.,2.,3.,4.],[5.,6.,7.,8.],[9.,10.,11.,12.]]\n",
    "print(torch.FloatTensor(py_list))"
   ]
  },
  {
   "cell_type": "code",
   "execution_count": null,
   "metadata": {},
   "outputs": [],
   "source": [
    "print(f)\n",
    "g = torch.zeros(15291300)\n",
    "offset = 0\n",
    "for i in range(0,len(f)):\n",
    "    k = f[i].reshape(-1)\n",
    "    g[offset:offset+len(k)] = k\n",
    "    offset = offset +len(k)\n",
    "print(g)"
   ]
  },
  {
   "cell_type": "code",
   "execution_count": null,
   "metadata": {},
   "outputs": [],
   "source": [
    "print(offset)"
   ]
  },
  {
   "cell_type": "code",
   "execution_count": null,
   "metadata": {},
   "outputs": [],
   "source": [
    "a.reshape(-1)"
   ]
  },
  {
   "cell_type": "code",
   "execution_count": null,
   "metadata": {},
   "outputs": [],
   "source": [
    "hess = utils.hess_vec(torch.rand(15291300),loader,model,criterion)"
   ]
  },
  {
   "cell_type": "code",
   "execution_count": null,
   "metadata": {},
   "outputs": [],
   "source": [
    "len(hess)"
   ]
  },
  {
   "cell_type": "code",
   "execution_count": null,
   "metadata": {},
   "outputs": [],
   "source": [
    "covgrad = utils.covgrad_vec(torch.rand(15291300),loader,model,criterion)"
   ]
  },
  {
   "cell_type": "code",
   "execution_count": null,
   "metadata": {},
   "outputs": [],
   "source": [
    "print(hess)\n",
    "print(len(hess))\n",
    "print(covgrad)\n",
    "print(len(covgrad))"
   ]
  },
  {
   "cell_type": "code",
   "execution_count": null,
   "metadata": {},
   "outputs": [],
   "source": [
    "vector = torch.rand(15291300)\n",
    "vector_list = []\n",
    "offset = 0\n",
    "for param in param_list:\n",
    "    vector_list.append(vector[offset:offset + param.numel()].detach().view_as(param).to(param.device))\n",
    "    offset += param.numel()"
   ]
  },
  {
   "cell_type": "code",
   "execution_count": null,
   "metadata": {},
   "outputs": [],
   "source": [
    "print(vector)\n",
    "print(vector_list[0:1])\n",
    "#print(vector_list)"
   ]
  },
  {
   "cell_type": "code",
   "execution_count": null,
   "metadata": {},
   "outputs": [],
   "source": [
    "#param_list = list(model.parameters())\n",
    "for param in param_list:\n",
    "    print(param)"
   ]
  },
  {
   "cell_type": "code",
   "execution_count": null,
   "metadata": {},
   "outputs": [],
   "source": [
    "# vector = []\n",
    "# param_list = list(model.parameters())\n",
    "# vector_list = []\n",
    "# # vector_list2 = []\n",
    "\n",
    "# offset = 0\n",
    "# for param in param_list:\n",
    "#     vector_list.append(vector[offset:offset + param.numel()].detach().view_as(param).to(param.device))\n",
    "#     offset += param.numel()\n",
    "\n",
    "# # vector2 = torch.zeros_like(vector)\n",
    "# # for param in param_list:\n",
    "# #     vector_list2.append(vector2[offset:offset + param.numel()].detach().view_as(param).to(param.device))\n",
    "# #     offset += param.numel()\n",
    "\n",
    "# vector_list2 = torch.zeros_like(vector)\n",
    "\n",
    "# model.eval()\n",
    "# if bn_train_mode:\n",
    "#     model.apply(_bn_train_mode)\n",
    "\n",
    "# model.zero_grad()\n",
    "# N = len(loader.dataset)\n",
    "# for input, target in loader:\n",
    "#     if cuda:\n",
    "#         input = input.cuda(non_blocking=True)\n",
    "#         target = target.cuda(non_blocking=True)\n",
    "#     loss, _, _ = criterion(model, input, target)\n",
    "#     loss *= input.size()[0] / N\n",
    "\n",
    "#     grad_list = torch.autograd.grad(loss, param_list, create_graph=True)\n",
    "\n",
    "#     dL_dvec = torch.zeros(1)\n",
    "#     if cuda:\n",
    "#         dL_dvec = dL_dvec.cuda()\n",
    "#         vector_list2.cuda()\n",
    "#     for v, g in zip(vector_list, grad_list):\n",
    "#         dL_dvec += torch.sum(v * g)\n",
    "#     dL_dvec *= grad_list\n",
    "#     vector_list2 += dL_dvec\n",
    "#     #dL_dvec.backward()\n",
    "#     #print(param_list[0].grad.size())\n",
    "# model.eval()"
   ]
  },
  {
   "cell_type": "code",
   "execution_count": null,
   "metadata": {},
   "outputs": [],
   "source": []
  }
 ],
 "metadata": {
  "kernelspec": {
   "display_name": "Python 3",
   "language": "python",
   "name": "python3"
  },
  "language_info": {
   "codemirror_mode": {
    "name": "ipython",
    "version": 3
   },
   "file_extension": ".py",
   "mimetype": "text/x-python",
   "name": "python",
   "nbconvert_exporter": "python",
   "pygments_lexer": "ipython3",
   "version": "3.7.0"
  }
 },
 "nbformat": 4,
 "nbformat_minor": 2
}
