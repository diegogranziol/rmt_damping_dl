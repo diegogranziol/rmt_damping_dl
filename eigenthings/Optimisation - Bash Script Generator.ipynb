{
 "cells": [
  {
   "cell_type": "code",
   "execution_count": 17,
   "metadata": {},
   "outputs": [],
   "source": [
    "model = 'PreResNet110'\n",
    "dataset = 'CIFAR10'\n",
    "optimizer = 'sgd'\n",
    "machine = 'jade2'\n",
    "#choose either 'X' or 'W'\n",
    "#Where 'X' is Xadam - AdamW+SWA\n",
    "if optimizer =='adam':\n",
    "    typeofadam = 'X'\n",
    "if optimizer =='sgd':\n",
    "    typeofsgd = ''\n"
   ]
  },
  {
   "cell_type": "code",
   "execution_count": 18,
   "metadata": {},
   "outputs": [],
   "source": [
    "if machine == 'rapid':\n",
    "    data_path = '/nfs/home/dgranziol/curvature/data/'\n",
    "    save_path = '/nfs/home/dgranziol/kfac-curvature/out/'\n",
    "elif machine == 'jade1':\n",
    "    data_path = '/jmain01/home/JAD017/sjr01/dxg49-sjr01/curvature/data/'\n",
    "    save_path = '/jmain01/home/JAD017/sjr01/dxg49-sjr01/kfac-curvature/out/'\n",
    "elif machine == 'jade2':\n",
    "    data_path = '/jmain01/home/JAD017/sjr02/dxg49-sjr02/curvature/data/'\n",
    "    save_path = '/jmain01/home/JAD017/sjr02/dxg49-sjr02/kfac-curvature/out/'\n",
    "\n",
    "start = 'python3 run_'+optimizer+'.py --dir '+save_path+' --dataset '+dataset+' --data_path='+data_path+ ' --model='+model+' --epochs=300 --save_freq=25 --eval_freq=1' \n",
    "        "
   ]
  },
  {
   "cell_type": "code",
   "execution_count": 19,
   "metadata": {},
   "outputs": [],
   "source": [
    "#sgd_rate = [0.003,0.01,0.03,0.1,0.3]\n",
    "sgd_rate = [0.001,0.005,0.01,0.05,]\n",
    "\n",
    "#adam_rate = [0.0001,0.0003,0.01,0.03]\n",
    "adam_rate = [0.00003,0.0001,0.0003,0.01]\n",
    "\n",
    "wd = [0.00001,0.00005,0.0001,0.0005,0.001]\n",
    "if optimizer =='sgd':\n",
    "    gridval = sgd_rate\n",
    "    appendname = typeofsgd\n",
    "elif optimizer =='adam':\n",
    "    gridval = adam_rate\n",
    "    appendname = typeofadam\n",
    "    "
   ]
  },
  {
   "cell_type": "code",
   "execution_count": 20,
   "metadata": {
    "scrolled": true
   },
   "outputs": [
    {
     "name": "stdout",
     "output_type": "stream",
     "text": [
      "making it jade ready\n"
     ]
    }
   ],
   "source": [
    "#full SPECTRUM\n",
    "#eigenvectors not saved\n",
    "if machine == 'jade1' or 'jade2':\n",
    "    dirstart = 'jade_scripts/'\n",
    "elif machine == 'rapid':\n",
    "    dirstart = 'rapid_scripts/'\n",
    "f = open(dirstart+\"optim-\"+optimizer+appendname+model+dataset+\".sh\",\"w+\")\n",
    "if machine =='jade1' or 'jade2':\n",
    "        print('making it jade ready')\n",
    "        f.write('#!/bin/bash')\n",
    "        f.write('\\n')\n",
    "        f.write('# set the number of nodes')\n",
    "        f.write('\\n')\n",
    "        f.write('#SBATCH --nodes=1')\n",
    "        f.write('\\n')\n",
    "        f.write('#SBATCH --job-name='+optimizer+appendname)\n",
    "        f.write('\\n')\n",
    "        f.write('#SBATCH --partition=small')\n",
    "        f.write('\\n')\n",
    "        f.write('#SBATCH --gres=gpu:1')\n",
    "        f.write('\\n')\n",
    "        f.write('module load python3/anaconda')\n",
    "        f.write('\\n')\n",
    "        f.write('source activate diegorubin')\n",
    "        f.write('\\n')\n",
    "for i in range(0,len(gridval)):\n",
    "    for j in range(0,len(wd)):\n",
    "        k = start+' --lr_init '+str(gridval[i])\n",
    "        if optimizer =='adam':\n",
    "            if typeofadam == 'W':\n",
    "                k = k + ' --decoupled_wd'+' --wd='+str(wd[j]/gridval[i])\n",
    "            elif typeofadam == 'X':\n",
    "                k = k + ' --decoupled_wd'+' --wd='+str(wd[j]/gridval[i]) + ' --swag' +' --swag_lr='+str(gridval[i]/2)\n",
    "        else:\n",
    "            k = k +' --wd='+str(wd[j])\n",
    "            if optimizer =='sgd':\n",
    "                if typeofsgd == 'swa':\n",
    "                    k = k + ' --swag' +' --swag_lr='+str(gridval[i]/2) \n",
    "        f.write(k)\n",
    "        f.write('\\n')"
   ]
  },
  {
   "cell_type": "code",
   "execution_count": 21,
   "metadata": {},
   "outputs": [
    {
     "name": "stdout",
     "output_type": "stream",
     "text": [
      "jade_scripts/optim-sgdPreResNet110CIFAR10.sh\n"
     ]
    }
   ],
   "source": [
    "print(dirstart+\"optim-\"+optimizer+appendname+model+dataset+\".sh\")"
   ]
  },
  {
   "cell_type": "code",
   "execution_count": null,
   "metadata": {
    "collapsed": true
   },
   "outputs": [],
   "source": []
  }
 ],
 "metadata": {
  "kernelspec": {
   "display_name": "Python 3",
   "language": "python",
   "name": "python3"
  },
  "language_info": {
   "codemirror_mode": {
    "name": "ipython",
    "version": 3
   },
   "file_extension": ".py",
   "mimetype": "text/x-python",
   "name": "python",
   "nbconvert_exporter": "python",
   "pygments_lexer": "ipython3",
   "version": "3.6.8"
  }
 },
 "nbformat": 4,
 "nbformat_minor": 2
}
